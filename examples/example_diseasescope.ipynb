{
 "cells": [
  {
   "cell_type": "markdown",
   "metadata": {},
   "source": [
    "This notebook demonstrates the basic functionality of DiseaseScope. (Still a Work in Progress!)\n",
    "\n",
    "# Introduction\n",
    "\n",
    "DiseaseScope is a collection of tools to infer disease associated genes, pathways, and their structure. The only prior knowledge needed from the user is the Disease Ontology ID of the disease of interest. First, DiseaseScope queries publicly available knowledge sources, such as Human Phenotype Ontology (HPO), OMIM, DisGeNet, Disease Ontology (DO), and more, to gather a seed set of disease associated genes.\n",
    "\n",
    "# Getting Disease Genes and Tissues"
   ]
  },
  {
   "cell_type": "code",
   "execution_count": 17,
   "metadata": {},
   "outputs": [
    {
     "name": "stdout",
     "output_type": "stream",
     "text": [
      "The autoreload extension is already loaded. To reload it, use:\n",
      "  %reload_ext autoreload\n"
     ]
    },
    {
     "data": {
      "text/plain": [
       "DiseaseScope query \"asthma (DOID: 2841)\" with attributes "
      ]
     },
     "execution_count": 17,
     "metadata": {},
     "output_type": "execute_result"
    }
   ],
   "source": [
    "%load_ext autoreload\n",
    "%autoreload 2\n",
    "\n",
    "from diseasescope import DiseaseScope\n",
    "\n",
    "# DOID:2841 This is the DOID for Asthma\n",
    "scope = DiseaseScope(2841, convert_doid=True)\n",
    "scope"
   ]
  },
  {
   "cell_type": "markdown",
   "metadata": {},
   "source": [
    "Note that DiseaseScope will look up the Disease Ontology ID to get the English phrase for the disease. This phrase will be used only by the tissue inference service, if needed. To gather a set of genes, we offer two methods: `biothings`, which queries HPO and DO for relevant genes, or `disgenet`, which contains a pre-aggregated list of disease associated genes. "
   ]
  },
  {
   "cell_type": "code",
   "execution_count": 20,
   "metadata": {},
   "outputs": [
    {
     "name": "stderr",
     "output_type": "stream",
     "text": [
      "INFO:root:Getting HP ids from DOID\n"
     ]
    },
    {
     "name": "stdout",
     "output_type": "stream",
     "text": [
      "http://biothings.io/explorer/api/v2/directinput2output?input_prefix=doid&output_prefix=ncbigene&input_value=2841&format=translator\n",
      "Returned 99 genes\n"
     ]
    },
    {
     "data": {
      "text/plain": [
       "DiseaseScope query \"asthma (DOID: 2841)\" with attributes seed genes"
      ]
     },
     "execution_count": 20,
     "metadata": {},
     "output_type": "execute_result"
    }
   ],
   "source": [
    "scope.get_disease_genes(method=\"biothings\")"
   ]
  },
  {
   "cell_type": "markdown",
   "metadata": {},
   "source": [
    "The genes are available in the `genes` attribute. Here are the first 5 disease genes (in Entrez Gene ID)."
   ]
  },
  {
   "cell_type": "code",
   "execution_count": 23,
   "metadata": {},
   "outputs": [
    {
     "data": {
      "text/plain": [
       "['3565', '222256', '3291', '142', '2068']"
      ]
     },
     "execution_count": 23,
     "metadata": {},
     "output_type": "execute_result"
    }
   ],
   "source": [
    "scope.genes[:5]"
   ]
  },
  {
   "cell_type": "markdown",
   "metadata": {},
   "source": [
    "To convert between different gene names, use the `convert_scope` method for genes. "
   ]
  },
  {
   "cell_type": "code",
   "execution_count": 27,
   "metadata": {},
   "outputs": [
    {
     "name": "stdout",
     "output_type": "stream",
     "text": [
      "querying 1-99...done.\n",
      "Finished.\n"
     ]
    },
    {
     "data": {
      "text/plain": [
       "['IL4', 'CDHR3', 'HSD11B2', 'PARP1', 'ERCC2']"
      ]
     },
     "execution_count": 27,
     "metadata": {},
     "output_type": "execute_result"
    }
   ],
   "source": [
    "scope.genes.convert_scope(\"symbol\")[:5]"
   ]
  },
  {
   "cell_type": "markdown",
   "metadata": {},
   "source": [
    "If the user already has a query tissue in mind, he/she can simply assign the attribute. Otherwise, we recommend using the \"pubmed\" method to infer the relevant tissue. This service compares the word embedding vector of the disease to that of a pre-defined set of tissues and return the tissue that is the most similar."
   ]
  },
  {
   "cell_type": "code",
   "execution_count": 30,
   "metadata": {},
   "outputs": [
    {
     "data": {
      "text/plain": [
       "DiseaseScope query \"asthma (DOID: 2841)\" with attributes seed genes, tissues"
      ]
     },
     "execution_count": 30,
     "metadata": {},
     "output_type": "execute_result"
    }
   ],
   "source": [
    "scope.get_disease_tissues(method=\"pubmed\")"
   ]
  },
  {
   "cell_type": "markdown",
   "metadata": {},
   "source": [
    "The tissues can be accessed by the `tissues` attribute, which contains a list of dictionary, each with three keys: `tissue`, which specify the tissue associated with the disease, `score`, the cosine similarity between the word embedding vectors, and `percentile`, which compares the similarity to a background of random words in the corpus."
   ]
  },
  {
   "cell_type": "code",
   "execution_count": 31,
   "metadata": {},
   "outputs": [
    {
     "data": {
      "text/plain": [
       "[{'tissue': 'lung', 'score': '0.3881', 'percentile': '99.9000'},\n",
       " {'tissue': 'bronchial_epithelium',\n",
       "  'score': '0.3592',\n",
       "  'percentile': '100.0000'},\n",
       " {'tissue': 'respiratory_epithelium',\n",
       "  'score': '0.3238',\n",
       "  'percentile': '100.0000'},\n",
       " {'tissue': 'bronchial_epithelial_cell',\n",
       "  'score': '0.3162',\n",
       "  'percentile': '99.8000'},\n",
       " {'tissue': 'eosinophil', 'score': '0.3128', 'percentile': '99.8000'}]"
      ]
     },
     "execution_count": 31,
     "metadata": {},
     "output_type": "execute_result"
    }
   ],
   "source": [
    "scope.biggim"
   ]
  },
  {
   "cell_type": "markdown",
   "metadata": {},
   "source": [
    "# Get Network and Expand\n",
    "\n",
    "For this example, we will pull a network from NDEx and use it to perform random walk to expand the seed gene set. (BigGIM example will be coming soon!) This example uses PCNet, which is a composite network that has integrated many different networks into one. While large, it is comparatively sparser than behemoth networks such as STRING and GIANT and has been shown to be very informative at recovering disease genes. See Huang and Carlin et al, Cell Systems 2018 for more information. The UUID for PCNet is actually stored as a class attribute `PCNET_UUID` for easy access."
   ]
  },
  {
   "cell_type": "code",
   "execution_count": 47,
   "metadata": {},
   "outputs": [
    {
     "data": {
      "text/plain": [
       "DiseaseScope query \"asthma (DOID: 2841)\" with attributes seed genes, genes, tissues, network"
      ]
     },
     "execution_count": 47,
     "metadata": {},
     "output_type": "execute_result"
    }
   ],
   "source": [
    "scope.get_network(method=\"ndex\", uuid=scope.PCNET_UUID) "
   ]
  },
  {
   "cell_type": "code",
   "execution_count": 56,
   "metadata": {},
   "outputs": [
    {
     "name": "stdout",
     "output_type": "stream",
     "text": [
      "querying 1-99...done.\n",
      "Finished.\n"
     ]
    }
   ],
   "source": [
    "scope.genes.convert_scope(\"symbol\", inplace=True)"
   ]
  },
  {
   "cell_type": "code",
   "execution_count": 58,
   "metadata": {},
   "outputs": [
    {
     "data": {
      "text/plain": [
       "DiseaseScope query \"asthma (DOID: 2841)\" with attributes seed genes, genes, tissues, network"
      ]
     },
     "execution_count": 58,
     "metadata": {},
     "output_type": "execute_result"
    }
   ],
   "source": [
    "scope.expand_gene_set(\n",
    "    method=\"random walk\", \n",
    "    alpha=0.56, \n",
    "    n=250,\n",
    "    add_subnetwork=True\n",
    ")"
   ]
  },
  {
   "cell_type": "code",
   "execution_count": 64,
   "metadata": {},
   "outputs": [
    {
     "data": {
      "text/html": [
       "<div>\n",
       "<style scoped>\n",
       "    .dataframe tbody tr th:only-of-type {\n",
       "        vertical-align: middle;\n",
       "    }\n",
       "\n",
       "    .dataframe tbody tr th {\n",
       "        vertical-align: top;\n",
       "    }\n",
       "\n",
       "    .dataframe thead th {\n",
       "        text-align: right;\n",
       "    }\n",
       "</style>\n",
       "<table border=\"1\" class=\"dataframe\">\n",
       "  <thead>\n",
       "    <tr style=\"text-align: right;\">\n",
       "      <th></th>\n",
       "      <th>heat</th>\n",
       "      <th>name</th>\n",
       "      <th>random walk score</th>\n",
       "    </tr>\n",
       "  </thead>\n",
       "  <tbody>\n",
       "    <tr>\n",
       "      <th>0</th>\n",
       "      <td>1</td>\n",
       "      <td>IL1B</td>\n",
       "      <td>0.605009</td>\n",
       "    </tr>\n",
       "    <tr>\n",
       "      <th>1</th>\n",
       "      <td>1</td>\n",
       "      <td>TNF</td>\n",
       "      <td>0.595927</td>\n",
       "    </tr>\n",
       "    <tr>\n",
       "      <th>2</th>\n",
       "      <td>1</td>\n",
       "      <td>CCL2</td>\n",
       "      <td>0.595191</td>\n",
       "    </tr>\n",
       "    <tr>\n",
       "      <th>3</th>\n",
       "      <td>1</td>\n",
       "      <td>SCGB1A1</td>\n",
       "      <td>0.593805</td>\n",
       "    </tr>\n",
       "    <tr>\n",
       "      <th>4</th>\n",
       "      <td>1</td>\n",
       "      <td>ICAM1</td>\n",
       "      <td>0.589855</td>\n",
       "    </tr>\n",
       "  </tbody>\n",
       "</table>\n",
       "</div>"
      ],
      "text/plain": [
       "   heat     name  random walk score\n",
       "0     1     IL1B           0.605009\n",
       "1     1      TNF           0.595927\n",
       "2     1     CCL2           0.595191\n",
       "3     1  SCGB1A1           0.593805\n",
       "4     1    ICAM1           0.589855"
      ]
     },
     "execution_count": 64,
     "metadata": {},
     "output_type": "execute_result"
    }
   ],
   "source": [
    "(scope\n",
    "    .network\n",
    "    .node_table\n",
    "    .sort_values(by='random walk score', ascending=False)\n",
    "    .reset_index(drop=True)\n",
    "    .head())"
   ]
  },
  {
   "cell_type": "code",
   "execution_count": 63,
   "metadata": {},
   "outputs": [
    {
     "data": {
      "text/plain": [
       "['IL1B', 'TNF', 'CCL2', 'SCGB1A1', 'ICAM1']"
      ]
     },
     "execution_count": 63,
     "metadata": {},
     "output_type": "execute_result"
    }
   ],
   "source": [
    "scope.expanded_genes[:5]"
   ]
  },
  {
   "cell_type": "markdown",
   "metadata": {},
   "source": [
    "Adding adjacency matrix and edge table to make the network cluster-able."
   ]
  },
  {
   "cell_type": "code",
   "execution_count": 77,
   "metadata": {},
   "outputs": [
    {
     "data": {
      "text/html": [
       "<div>\n",
       "<style scoped>\n",
       "    .dataframe tbody tr th:only-of-type {\n",
       "        vertical-align: middle;\n",
       "    }\n",
       "\n",
       "    .dataframe tbody tr th {\n",
       "        vertical-align: top;\n",
       "    }\n",
       "\n",
       "    .dataframe thead th {\n",
       "        text-align: right;\n",
       "    }\n",
       "</style>\n",
       "<table border=\"1\" class=\"dataframe\">\n",
       "  <thead>\n",
       "    <tr style=\"text-align: right;\">\n",
       "      <th></th>\n",
       "      <th>Gene1</th>\n",
       "      <th>Gene2</th>\n",
       "      <th>weight</th>\n",
       "    </tr>\n",
       "  </thead>\n",
       "  <tbody>\n",
       "    <tr>\n",
       "      <th>0</th>\n",
       "      <td>IL1B</td>\n",
       "      <td>TNF</td>\n",
       "      <td>1.0</td>\n",
       "    </tr>\n",
       "    <tr>\n",
       "      <th>1</th>\n",
       "      <td>IL1B</td>\n",
       "      <td>CCL2</td>\n",
       "      <td>1.0</td>\n",
       "    </tr>\n",
       "    <tr>\n",
       "      <th>2</th>\n",
       "      <td>IL1B</td>\n",
       "      <td>ICAM1</td>\n",
       "      <td>1.0</td>\n",
       "    </tr>\n",
       "    <tr>\n",
       "      <th>3</th>\n",
       "      <td>IL1B</td>\n",
       "      <td>MMP9</td>\n",
       "      <td>1.0</td>\n",
       "    </tr>\n",
       "    <tr>\n",
       "      <th>4</th>\n",
       "      <td>IL1B</td>\n",
       "      <td>IL13</td>\n",
       "      <td>1.0</td>\n",
       "    </tr>\n",
       "  </tbody>\n",
       "</table>\n",
       "</div>"
      ],
      "text/plain": [
       "  Gene1  Gene2  weight\n",
       "0  IL1B    TNF     1.0\n",
       "1  IL1B   CCL2     1.0\n",
       "2  IL1B  ICAM1     1.0\n",
       "3  IL1B   MMP9     1.0\n",
       "4  IL1B   IL13     1.0"
      ]
     },
     "execution_count": 77,
     "metadata": {},
     "output_type": "execute_result"
    }
   ],
   "source": [
    "scope.subnetwork.add_adjacency_matrix()\n",
    "scope.edge_table = scope.subnetwork.add_edge_table()\n",
    "scope.edge_table.head()"
   ]
  },
  {
   "cell_type": "code",
   "execution_count": 79,
   "metadata": {},
   "outputs": [
    {
     "name": "stdout",
     "output_type": "stream",
     "text": [
      "{'parameters': {'alpha': 0.01, 'beta': 0.5, 'hiviewurl': 'http://hiview-test.ucsd.edu', 'interactionfile': 'interactionfile', 'ndexname': 'MyOntology', 'ndexpass': 'ddot_anon', 'ndexserver': 'test.ndexbio.org', 'ndexuser': 'ddot_anon', 'tasktype': 'ddot_ontology', 'uuid': '46715c0f-59fc-4fa5-b54e-50e097df7e04'}, 'result': {'hiviewurl': 'http://hiview-test.ucsd.edu/67437046-aa4c-11e9-a5da-0660b7976219?type=test&server=http://dev2.ndexbio.org', 'ndexurl': 'http://dev2.ndexbio.org/#/network/67437046-aa4c-11e9-a5da-0660b7976219'}, 'status': 'done'}\n"
     ]
    },
    {
     "data": {
      "text/plain": [
       "DiseaseScope query \"asthma (DOID: 2841)\" with attributes seed genes, genes, tissues, network, hiview_url"
      ]
     },
     "execution_count": 79,
     "metadata": {},
     "output_type": "execute_result"
    }
   ],
   "source": [
    "scope.infer_hierarchical_model(\n",
    "    method='clixo-api', \n",
    "    edge_attr=\"weight\",\n",
    "    method_kwargs={\n",
    "        \"alpha\":0.01,\n",
    "        \"beta\": 0.5\n",
    "    }\n",
    ")"
   ]
  },
  {
   "cell_type": "code",
   "execution_count": 80,
   "metadata": {},
   "outputs": [
    {
     "data": {
      "text/plain": [
       "'http://hiview-test.ucsd.edu/67437046-aa4c-11e9-a5da-0660b7976219?type=test&server=http://dev2.ndexbio.org'"
      ]
     },
     "execution_count": 80,
     "metadata": {},
     "output_type": "execute_result"
    }
   ],
   "source": [
    "scope.hiview_url"
   ]
  },
  {
   "cell_type": "markdown",
   "metadata": {},
   "source": [
    "Note, this example is still being updated. A weighted network will generally produce better results."
   ]
  }
 ],
 "metadata": {
  "kernelspec": {
   "display_name": "scope",
   "language": "python",
   "name": "scope"
  },
  "language_info": {
   "codemirror_mode": {
    "name": "ipython",
    "version": 3
   },
   "file_extension": ".py",
   "mimetype": "text/x-python",
   "name": "python",
   "nbconvert_exporter": "python",
   "pygments_lexer": "ipython3",
   "version": "3.6.8"
  }
 },
 "nbformat": 4,
 "nbformat_minor": 2
}
