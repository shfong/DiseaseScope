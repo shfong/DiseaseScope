{
 "cells": [
  {
   "cell_type": "code",
   "execution_count": 1,
   "metadata": {},
   "outputs": [],
   "source": [
    "%load_ext autoreload\n",
    "%autoreload 2"
   ]
  },
  {
   "cell_type": "code",
   "execution_count": 20,
   "metadata": {},
   "outputs": [],
   "source": [
    "from diseasescope.biggim import BigGIM\n",
    "import logging\n",
    "\n",
    "logger = logging.getLogger()\n",
    "logger.setLevel(logging.DEBUG)"
   ]
  },
  {
   "cell_type": "code",
   "execution_count": 21,
   "metadata": {},
   "outputs": [
    {
     "data": {
      "text/plain": [
       "<diseasescope.biggim.BigGIM at 0x11a4692e8>"
      ]
     },
     "execution_count": 21,
     "metadata": {},
     "output_type": "execute_result"
    }
   ],
   "source": [
    "gim = BigGIM()\n",
    "gim"
   ]
  },
  {
   "cell_type": "code",
   "execution_count": 22,
   "metadata": {},
   "outputs": [
    {
     "name": "stderr",
     "output_type": "stream",
     "text": [
      "DEBUG:urllib3.connectionpool:Starting new HTTP connection (1): biggim.ncats.io:80\n",
      "DEBUG:urllib3.connectionpool:http://biggim.ncats.io:80 \"GET /api/metadata/tissue HTTP/1.1\" 200 6521\n"
     ]
    },
    {
     "data": {
      "text/plain": [
       "{'tissues': ['B_lymphocyte',\n",
       "  'B_lymphoma_cell_line',\n",
       "  'T_lymphocyte',\n",
       "  'acute_myeloid_leukemia_cell',\n",
       "  'adenocarcinoma_cell',\n",
       "  'adipose_tissue',\n",
       "  'adrenal_cortex',\n",
       "  'adrenal_gland',\n",
       "  'adrenal_gland_cancer_cell',\n",
       "  'adrenocortical_carcinoma_cell',\n",
       "  'adult_stem_cell',\n",
       "  'alimentary_canal',\n",
       "  'amygdala',\n",
       "  'animal',\n",
       "  'aorta',\n",
       "  'artery',\n",
       "  'astroblast',\n",
       "  'astrocyte',\n",
       "  'astrocytoma_cell',\n",
       "  'astroglia',\n",
       "  'astroglial_cell',\n",
       "  'avian_pallium',\n",
       "  'basal_ganglion',\n",
       "  'basophil',\n",
       "  'bile_duct',\n",
       "  'bile_duct_epithelium',\n",
       "  'biliary_epithelium',\n",
       "  'bladder',\n",
       "  'blast_cell',\n",
       "  'blastomere',\n",
       "  'blastula',\n",
       "  'blood',\n",
       "  'blood_cancer_cell',\n",
       "  'blood_plasma',\n",
       "  'blood_platelet',\n",
       "  'blood_vessel',\n",
       "  'blood_vessel_endothelium',\n",
       "  'bone',\n",
       "  'bone_cancer_cell',\n",
       "  'bone_marrow',\n",
       "  'bone_marrow_cell',\n",
       "  'brain',\n",
       "  'brain_stem',\n",
       "  'brain_ventricle',\n",
       "  'breast',\n",
       "  'breast_cancer_cell',\n",
       "  'breast_epithelium',\n",
       "  'bronchial_epithelial_cell',\n",
       "  'bronchial_epithelium',\n",
       "  'bronchoalveolar_system',\n",
       "  'bronchogenic_carcinoma_cell',\n",
       "  'bronchus',\n",
       "  'capsular_epithelium',\n",
       "  'carcinoid_cell',\n",
       "  'carcinoma_cell',\n",
       "  'cardiac_muscle',\n",
       "  'cardiovascular_system',\n",
       "  'cartilage',\n",
       "  'caudate_nucleus',\n",
       "  'caudate_putamen',\n",
       "  'cecum',\n",
       "  'cell_culture',\n",
       "  'central_nervous_system',\n",
       "  'cerebellar_cortex',\n",
       "  'cerebellum',\n",
       "  'cerebral_cortex',\n",
       "  'cerebral_hemisphere',\n",
       "  'cerebral_lobe',\n",
       "  'cervical_adenocarcinoma_cell',\n",
       "  'cervical_carcinoma_cell',\n",
       "  'cervical_squamous_cell_carcinoma_cell',\n",
       "  'cholangiocarcinoma_cell',\n",
       "  'chondrocyte',\n",
       "  'choroid',\n",
       "  'chromophobe_renal_cell_carcinoma_cell',\n",
       "  'cochlea',\n",
       "  'coelom',\n",
       "  'colon',\n",
       "  'colonic_cancer_cell',\n",
       "  'colorectal_adenocarcinoma_cell',\n",
       "  'colorectum',\n",
       "  'connecting_stalk',\n",
       "  'connective_tissue',\n",
       "  'cornea',\n",
       "  'corpus_callosum',\n",
       "  'corpus_luteum',\n",
       "  'corpus_striatum',\n",
       "  'culture_condition',\n",
       "  'culture_condition_CD8__cell',\n",
       "  'culture_condition_antigen_presenting_cell',\n",
       "  'dendritic_cell',\n",
       "  'dentate_gyrus',\n",
       "  'diencephalon',\n",
       "  'diffuse_large_B_cell_lymphoma_cell',\n",
       "  'digestive_gland',\n",
       "  'duodenum',\n",
       "  'ear',\n",
       "  'ectoderm',\n",
       "  'embryo',\n",
       "  'embryonic_structure',\n",
       "  'endocrine_gland',\n",
       "  'endocrine_pancreas',\n",
       "  'endometrioid_carcinoma_cell',\n",
       "  'endothelial_cell',\n",
       "  'endothelium',\n",
       "  'eosinophil',\n",
       "  'epidermal_cell',\n",
       "  'epidermis',\n",
       "  'epithelial_cell',\n",
       "  'epithelioma_cell',\n",
       "  'epithelium',\n",
       "  'esophageal_cancer_cell',\n",
       "  'esophagus',\n",
       "  'excretory_gland',\n",
       "  'exocrine_gland',\n",
       "  'exocrine_pancreas',\n",
       "  'eye',\n",
       "  'female_reproductive_gland',\n",
       "  'female_reproductive_system',\n",
       "  'fetus',\n",
       "  'fibroblast',\n",
       "  'forebrain',\n",
       "  'frontal_lobe',\n",
       "  'gametocyte',\n",
       "  'ganglion',\n",
       "  'gastric_adenocarcinoma_cell',\n",
       "  'gastric_cancer_cell',\n",
       "  'gastrointestinal_cancer_cell',\n",
       "  'gastrointestinal_tract',\n",
       "  'germ_cell',\n",
       "  'germ_layer',\n",
       "  'gland',\n",
       "  'glia',\n",
       "  'glial_cell',\n",
       "  'glioblastoma_cell',\n",
       "  'glioma_cell',\n",
       "  'glomerular_epithelium',\n",
       "  'gonad',\n",
       "  'granulocyte',\n",
       "  'hair_follicle',\n",
       "  'head',\n",
       "  'head_and_neck_cancer_cell',\n",
       "  'heart',\n",
       "  'hematopoietic_cell',\n",
       "  'hematopoietic_stem_cell',\n",
       "  'hematopoietic_system',\n",
       "  'hepatocyte',\n",
       "  'hindbrain',\n",
       "  'hippocampus',\n",
       "  'hypophysis',\n",
       "  'hypothalamus',\n",
       "  'ileocecum',\n",
       "  'ileum',\n",
       "  'immune_system',\n",
       "  'inner_ear',\n",
       "  'integument',\n",
       "  'internal_female_genital_organ',\n",
       "  'internal_male_genital_organ',\n",
       "  'intestinal_mucosa',\n",
       "  'intestine',\n",
       "  'jejunum',\n",
       "  'keratinocyte',\n",
       "  'kidney',\n",
       "  'kidney_cancer_cell',\n",
       "  'large_granular_lymphocyte',\n",
       "  'large_intestine',\n",
       "  'lateral_ventricle',\n",
       "  'lens',\n",
       "  'leukemia_cell',\n",
       "  'leukocyte',\n",
       "  'limbic_system',\n",
       "  'liver',\n",
       "  'liver_cancer_cell',\n",
       "  'locus_ceruleus',\n",
       "  'lung',\n",
       "  'lung_adenocarcinoma_cell',\n",
       "  'lung_cancer_cell',\n",
       "  'lung_squamous_cell_carcinoma_cell',\n",
       "  'lymph_node',\n",
       "  'lymphocyte',\n",
       "  'lymphoid_cell',\n",
       "  'lymphoid_cell_line',\n",
       "  'lymphoid_tissue',\n",
       "  'lymphoma_cell',\n",
       "  'lymphoma_cell_line',\n",
       "  'macroglia',\n",
       "  'macrophage',\n",
       "  'male_reproductive_gland',\n",
       "  'male_reproductive_system',\n",
       "  'mammary_epithelium',\n",
       "  'mammary_gland',\n",
       "  'marrow_cell',\n",
       "  'mast_cell',\n",
       "  'mature_ovarian_follicle',\n",
       "  'medulla_oblongata',\n",
       "  'megakaryoblast',\n",
       "  'megakaryocyte',\n",
       "  'melanocyte',\n",
       "  'melanoma_cell',\n",
       "  'mesoderm',\n",
       "  'mesothelioma_cell',\n",
       "  'mesothelium',\n",
       "  'metencephalon',\n",
       "  'midbrain',\n",
       "  'monocyte',\n",
       "  'mononuclear_cell',\n",
       "  'mononuclear_phagocyte',\n",
       "  'morula',\n",
       "  'mouth',\n",
       "  'mucosa',\n",
       "  'muscle',\n",
       "  'muscular_system',\n",
       "  'myelencephalon',\n",
       "  'myeloid_leukemia_cell',\n",
       "  'myeloid_progenitor_cell',\n",
       "  'myometrium',\n",
       "  'natural_killer_cell',\n",
       "  'neck',\n",
       "  'neostriatum',\n",
       "  'nephron',\n",
       "  'nerve',\n",
       "  'nervous_system',\n",
       "  'neural_crest',\n",
       "  'neural_crest_cell',\n",
       "  'neural_plate',\n",
       "  'neuroblast',\n",
       "  'neuroendocrine_cell',\n",
       "  'neuroendocrine_tumor_cell',\n",
       "  'neuron',\n",
       "  'neutrophil',\n",
       "  'non_small_cell_lung_cancer_cell',\n",
       "  'nucleus_accumbens',\n",
       "  'nucleus_lentiformis',\n",
       "  'null_cell',\n",
       "  'occipital_lobe',\n",
       "  'occipital_pole',\n",
       "  'organism_form',\n",
       "  'osteoblast',\n",
       "  'osteogenic_cell',\n",
       "  'other_source',\n",
       "  'ovarian_follicle',\n",
       "  'ovarian_serous_carcinoma_cell',\n",
       "  'ovary',\n",
       "  'ovary_cancer_cell',\n",
       "  'oviduct',\n",
       "  'pancreas',\n",
       "  'pancreatic_duct',\n",
       "  'pancreatic_ductal_adenocarcinoma_cell',\n",
       "  'pancreatic_ductal_carcinoma_cell',\n",
       "  'pancreatic_islet',\n",
       "  'papillary_renal_cell_carcinoma_cell',\n",
       "  'parietal_lobe',\n",
       "  'periosteum',\n",
       "  'peripheral_blood',\n",
       "  'peripheral_nervous_system',\n",
       "  'phagocyte',\n",
       "  'pheochromocytoma_cell',\n",
       "  'placenta',\n",
       "  'podocyte',\n",
       "  'pons',\n",
       "  'pre_T_lymphocyte',\n",
       "  'preosteoblast',\n",
       "  'primary_spermatocyte',\n",
       "  'prostate_adenocarcinoma_cell',\n",
       "  'prostate_gland',\n",
       "  'rectal_adenocarcinoma_cell',\n",
       "  'rectal_cancer_cell',\n",
       "  'rectum',\n",
       "  'renal_cell_carcinoma_cell',\n",
       "  'renal_clear_cell',\n",
       "  'renal_corpuscle',\n",
       "  'renal_glomerular_capsule',\n",
       "  'renal_glomerulus',\n",
       "  'renal_tubule',\n",
       "  'reproductive_system',\n",
       "  'respiratory_epithelium',\n",
       "  'respiratory_system',\n",
       "  'retina',\n",
       "  'salivary_gland',\n",
       "  'sarcoma_cell',\n",
       "  'secondary_spermatocyte',\n",
       "  'semen',\n",
       "  'sense_organ',\n",
       "  'serum',\n",
       "  'skeletal_muscle',\n",
       "  'skeletal_muscle_cancer_cell',\n",
       "  'skeletal_muscle_cell',\n",
       "  'skeletal_system',\n",
       "  'skin',\n",
       "  'skin_cancer_cell',\n",
       "  'skin_fibroblast',\n",
       "  'small_intestine',\n",
       "  'smooth_muscle',\n",
       "  'spermatid',\n",
       "  'spermatocyte',\n",
       "  'spermatogonium',\n",
       "  'spinal_cord',\n",
       "  'spleen',\n",
       "  'squamous_cell_carcinoma_cell',\n",
       "  'squamous_epithelium',\n",
       "  'stomach',\n",
       "  'stratum_spinosum',\n",
       "  'substantia_nigra',\n",
       "  'subthalamic_nucleus',\n",
       "  'tear_gland',\n",
       "  'telencephalon',\n",
       "  'temporal_lobe',\n",
       "  'testicular_cancer_cell',\n",
       "  'testis',\n",
       "  'thalamus',\n",
       "  'thorax',\n",
       "  'throat',\n",
       "  'thymic_cancer_cell',\n",
       "  'thymocyte',\n",
       "  'thymoma_cell',\n",
       "  'thymus',\n",
       "  'thyroid_cancer_cell',\n",
       "  'thyroid_gland',\n",
       "  'tissues__cell_types_and_enzyme_sources',\n",
       "  'tonsil',\n",
       "  'tooth',\n",
       "  'trachea',\n",
       "  'trophoblast',\n",
       "  'trunk',\n",
       "  'umbilical_cord',\n",
       "  'umbilical_vein',\n",
       "  'umbilical_vein_endothelial_cell',\n",
       "  'umbilical_vein_endothelium',\n",
       "  'urinary_bladder',\n",
       "  'urinary_bladder_cancer_cell',\n",
       "  'urinary_system',\n",
       "  'urinary_tract',\n",
       "  'uroepithelium',\n",
       "  'urogenital_system',\n",
       "  'uterine_cancer_cell',\n",
       "  'uterine_cervix',\n",
       "  'uterine_endometrium',\n",
       "  'uterine_sarcoma_cell',\n",
       "  'uterus',\n",
       "  'uveal_melanoma_cell',\n",
       "  'vascular_endothelial_cell',\n",
       "  'vascular_endothelium',\n",
       "  'vascular_system',\n",
       "  'vermiform_appendix',\n",
       "  'vertebrate_muscular_system',\n",
       "  'vestibular_labyrinth',\n",
       "  'vestibular_system',\n",
       "  'viscus',\n",
       "  'whole_body',\n",
       "  'zygote']}"
      ]
     },
     "execution_count": 22,
     "metadata": {},
     "output_type": "execute_result"
    }
   ],
   "source": [
    "out = gim.get_all_tissues()\n",
    "out"
   ]
  },
  {
   "cell_type": "code",
   "execution_count": 23,
   "metadata": {},
   "outputs": [
    {
     "name": "stderr",
     "output_type": "stream",
     "text": [
      "DEBUG:urllib3.connectionpool:Starting new HTTP connection (1): biggim.ncats.io:80\n",
      "DEBUG:urllib3.connectionpool:http://biggim.ncats.io:80 \"GET /api/metadata/tissue HTTP/1.1\" 200 6521\n",
      "INFO:root:Returned 2 Big GIM columns\n"
     ]
    },
    {
     "data": {
      "text/plain": [
       "['kidney', 'kidney_cancer_cell']"
      ]
     },
     "execution_count": 23,
     "metadata": {},
     "output_type": "execute_result"
    }
   ],
   "source": [
    "gim.query_columns('kidney')"
   ]
  },
  {
   "cell_type": "code",
   "execution_count": 24,
   "metadata": {},
   "outputs": [
    {
     "name": "stderr",
     "output_type": "stream",
     "text": [
      "DEBUG:urllib3.connectionpool:Starting new HTTP connection (1): biggim.ncats.io:80\n",
      "DEBUG:urllib3.connectionpool:http://biggim.ncats.io:80 \"GET /api/metadata/tissue HTTP/1.1\" 200 6521\n",
      "INFO:root:Returned 2 Big GIM columns\n",
      "INFO:root:Found the following columns in BigGIM: ['kidney', 'kidney_cancer_cell']\n",
      "DEBUG:root:{'ids1': '5111,6996,57697,6815,889,7112,2176,1019,5888,5706', 'ids2': None, 'columns': 'kidney,kidney_cancer_cell', 'average_columns': False, 'limit': 10000, 'restriction_join': 'intersect', 'restriction_bool': None, 'restriction_gt': None, 'restriction_lt': None, 'table': 'BigGIM_70_v1'}\n",
      "DEBUG:urllib3.connectionpool:Starting new HTTP connection (1): biggim.ncats.io:80\n",
      "DEBUG:urllib3.connectionpool:http://biggim.ncats.io:80 \"GET /api/biggim/query HTTP/1.1\" 400 85\n",
      "DEBUG:root:Response received: {'error': '400 Client Error: BAD REQUEST for url: http://biggim.ncats.io/api/biggim/query'}\n"
     ]
    },
    {
     "ename": "KeyError",
     "evalue": "'status'",
     "output_type": "error",
     "traceback": [
      "\u001b[0;31m---------------------------------------------------------------------------\u001b[0m",
      "\u001b[0;31mKeyError\u001b[0m                                  Traceback (most recent call last)",
      "\u001b[0;32m<ipython-input-24-1ddd7ce4c5f0>\u001b[0m in \u001b[0;36m<module>\u001b[0;34m\u001b[0m\n\u001b[1;32m      1\u001b[0m gim.query(\n\u001b[1;32m      2\u001b[0m     \u001b[0;34m\"5111,6996,57697,6815,889,7112,2176,1019,5888,5706\"\u001b[0m\u001b[0;34m,\u001b[0m\u001b[0;34m\u001b[0m\u001b[0;34m\u001b[0m\u001b[0m\n\u001b[0;32m----> 3\u001b[0;31m     \u001b[0mcolumns\u001b[0m\u001b[0;34m=\u001b[0m\u001b[0;34m'kidney'\u001b[0m\u001b[0;34m,\u001b[0m\u001b[0;34m\u001b[0m\u001b[0;34m\u001b[0m\u001b[0m\n\u001b[0m\u001b[1;32m      4\u001b[0m )\n",
      "\u001b[0;32m~/Ongoing/DiseaseScope/diseasescope/biggim.py\u001b[0m in \u001b[0;36mquery\u001b[0;34m(self, ids1, ids2, columns, average_columns, limit, restriction_join, restriction_bool, restriction_gt, restriction_lt, table, validate_columns, wait_for_query, wait_time, to_dataframe)\u001b[0m\n\u001b[1;32m    200\u001b[0m             \u001b[0mlogging\u001b[0m\u001b[0;34m.\u001b[0m\u001b[0mdebug\u001b[0m\u001b[0;34m(\u001b[0m\u001b[0;34mf\"Response received: {self.response}\"\u001b[0m\u001b[0;34m)\u001b[0m\u001b[0;34m\u001b[0m\u001b[0;34m\u001b[0m\u001b[0m\n\u001b[1;32m    201\u001b[0m \u001b[0;34m\u001b[0m\u001b[0m\n\u001b[0;32m--> 202\u001b[0;31m             \u001b[0;32mif\u001b[0m \u001b[0mself\u001b[0m\u001b[0;34m.\u001b[0m\u001b[0mresponse\u001b[0m\u001b[0;34m[\u001b[0m\u001b[0;34m'status'\u001b[0m\u001b[0;34m]\u001b[0m \u001b[0;34m!=\u001b[0m \u001b[0;34m'submitted'\u001b[0m \u001b[0;32mor\u001b[0m \u001b[0;32mnot\u001b[0m \u001b[0mself\u001b[0m\u001b[0;34m.\u001b[0m\u001b[0mresponse\u001b[0m\u001b[0;34m.\u001b[0m\u001b[0mget\u001b[0m\u001b[0;34m(\u001b[0m\u001b[0;34m'request_id'\u001b[0m\u001b[0;34m,\u001b[0m \u001b[0;32mNone\u001b[0m\u001b[0;34m)\u001b[0m\u001b[0;34m:\u001b[0m\u001b[0;34m\u001b[0m\u001b[0;34m\u001b[0m\u001b[0m\n\u001b[0m\u001b[1;32m    203\u001b[0m                 \u001b[0;32mraise\u001b[0m \u001b[0mRuntimeError\u001b[0m\u001b[0;34m(\u001b[0m\u001b[0;34m\"BigGIM query failed with the following response: %s\"\u001b[0m \u001b[0;34m%\u001b[0m \u001b[0mstr\u001b[0m\u001b[0;34m(\u001b[0m\u001b[0mself\u001b[0m\u001b[0;34m.\u001b[0m\u001b[0mresponse\u001b[0m\u001b[0;34m)\u001b[0m\u001b[0;34m)\u001b[0m\u001b[0;34m\u001b[0m\u001b[0;34m\u001b[0m\u001b[0m\n\u001b[1;32m    204\u001b[0m \u001b[0;34m\u001b[0m\u001b[0m\n",
      "\u001b[0;31mKeyError\u001b[0m: 'status'"
     ]
    }
   ],
   "source": [
    "gim.query(\n",
    "    \"5111,6996,57697,6815,889,7112,2176,1019,5888,5706\", \n",
    "    columns='kidney', \n",
    ")"
   ]
  },
  {
   "cell_type": "code",
   "execution_count": 27,
   "metadata": {},
   "outputs": [
    {
     "data": {
      "text/plain": [
       "{'error': '404 Client Error: NOT FOUND for url: http://biggim.ncats.io/api/metadata/table/BigGIM_70_v1/columns'}"
      ]
     },
     "execution_count": 27,
     "metadata": {},
     "output_type": "execute_result"
    }
   ],
   "source": [
    "gim._getBG(\n",
    "    'metadata/table/BigGIM_70_v1/columns'\n",
    ")"
   ]
  },
  {
   "cell_type": "code",
   "execution_count": 16,
   "metadata": {},
   "outputs": [
    {
     "data": {
      "text/plain": [
       "{'error': '400 Client Error: BAD REQUEST for url: http://biggim.ncats.io/api/biggim/query'}"
      ]
     },
     "execution_count": 16,
     "metadata": {},
     "output_type": "execute_result"
    }
   ],
   "source": [
    "gim.response"
   ]
  },
  {
   "cell_type": "code",
   "execution_count": 12,
   "metadata": {},
   "outputs": [
    {
     "name": "stderr",
     "output_type": "stream",
     "text": [
      "INFO:root:Query has complete!\n"
     ]
    },
    {
     "data": {
      "text/plain": [
       "<diseasescope.biggim.BigGIM at 0x120e48748>"
      ]
     },
     "execution_count": 12,
     "metadata": {},
     "output_type": "execute_result"
    }
   ],
   "source": [
    "gim.wait_for_query(timelimit=None)"
   ]
  },
  {
   "cell_type": "code",
   "execution_count": 13,
   "metadata": {},
   "outputs": [
    {
     "ename": "NameError",
     "evalue": "name 'pandas' is not defined",
     "output_type": "error",
     "traceback": [
      "\u001b[0;31m---------------------------------------------------------------------------\u001b[0m",
      "\u001b[0;31mNameError\u001b[0m                                 Traceback (most recent call last)",
      "\u001b[0;32m<ipython-input-13-4c2064ad663b>\u001b[0m in \u001b[0;36m<module>\u001b[0;34m\u001b[0m\n\u001b[0;32m----> 1\u001b[0;31m \u001b[0mgim\u001b[0m\u001b[0;34m.\u001b[0m\u001b[0mconvert_result_to_dataframe\u001b[0m\u001b[0;34m(\u001b[0m\u001b[0;34m)\u001b[0m\u001b[0;34m\u001b[0m\u001b[0;34m\u001b[0m\u001b[0m\n\u001b[0m",
      "\u001b[0;32m~/Ongoing/DiseaseScope/diseasescope/biggim.py\u001b[0m in \u001b[0;36mconvert_result_to_dataframe\u001b[0;34m(self)\u001b[0m\n\u001b[1;32m    249\u001b[0m         \u001b[0mself\u001b[0m\u001b[0;34m.\u001b[0m\u001b[0mrequest_uri\u001b[0m \u001b[0;34m=\u001b[0m \u001b[0mself\u001b[0m\u001b[0;34m.\u001b[0m\u001b[0mresponse\u001b[0m\u001b[0;34m[\u001b[0m\u001b[0;34m'request_uri'\u001b[0m\u001b[0;34m]\u001b[0m\u001b[0;34m\u001b[0m\u001b[0;34m\u001b[0m\u001b[0m\n\u001b[1;32m    250\u001b[0m         df = pd.concat(\n\u001b[0;32m--> 251\u001b[0;31m             \u001b[0;34m[\u001b[0m\u001b[0mpandas\u001b[0m\u001b[0;34m.\u001b[0m\u001b[0mread_csv\u001b[0m\u001b[0;34m[\u001b[0m\u001b[0mi\u001b[0m\u001b[0;34m]\u001b[0m \u001b[0;32mfor\u001b[0m \u001b[0mi\u001b[0m \u001b[0;32min\u001b[0m \u001b[0mself\u001b[0m\u001b[0;34m.\u001b[0m\u001b[0mrequest_uri\u001b[0m\u001b[0;34m]\u001b[0m\u001b[0;34m\u001b[0m\u001b[0;34m\u001b[0m\u001b[0m\n\u001b[0m\u001b[1;32m    252\u001b[0m         ).iloc[:, 1:]\n\u001b[1;32m    253\u001b[0m \u001b[0;34m\u001b[0m\u001b[0m\n",
      "\u001b[0;32m~/Ongoing/DiseaseScope/diseasescope/biggim.py\u001b[0m in \u001b[0;36m<listcomp>\u001b[0;34m(.0)\u001b[0m\n\u001b[1;32m    249\u001b[0m         \u001b[0mself\u001b[0m\u001b[0;34m.\u001b[0m\u001b[0mrequest_uri\u001b[0m \u001b[0;34m=\u001b[0m \u001b[0mself\u001b[0m\u001b[0;34m.\u001b[0m\u001b[0mresponse\u001b[0m\u001b[0;34m[\u001b[0m\u001b[0;34m'request_uri'\u001b[0m\u001b[0;34m]\u001b[0m\u001b[0;34m\u001b[0m\u001b[0;34m\u001b[0m\u001b[0m\n\u001b[1;32m    250\u001b[0m         df = pd.concat(\n\u001b[0;32m--> 251\u001b[0;31m             \u001b[0;34m[\u001b[0m\u001b[0mpandas\u001b[0m\u001b[0;34m.\u001b[0m\u001b[0mread_csv\u001b[0m\u001b[0;34m[\u001b[0m\u001b[0mi\u001b[0m\u001b[0;34m]\u001b[0m \u001b[0;32mfor\u001b[0m \u001b[0mi\u001b[0m \u001b[0;32min\u001b[0m \u001b[0mself\u001b[0m\u001b[0;34m.\u001b[0m\u001b[0mrequest_uri\u001b[0m\u001b[0;34m]\u001b[0m\u001b[0;34m\u001b[0m\u001b[0;34m\u001b[0m\u001b[0m\n\u001b[0m\u001b[1;32m    252\u001b[0m         ).iloc[:, 1:]\n\u001b[1;32m    253\u001b[0m \u001b[0;34m\u001b[0m\u001b[0m\n",
      "\u001b[0;31mNameError\u001b[0m: name 'pandas' is not defined"
     ]
    }
   ],
   "source": [
    "gim.convert_result_to_dataframe()"
   ]
  },
  {
   "cell_type": "code",
   "execution_count": 14,
   "metadata": {},
   "outputs": [
    {
     "data": {
      "text/plain": [
       "'0c53f551-a83f-4d7e-bb5b-85a64d601e00'"
      ]
     },
     "execution_count": 14,
     "metadata": {},
     "output_type": "execute_result"
    }
   ],
   "source": [
    "gim.query_id"
   ]
  },
  {
   "cell_type": "code",
   "execution_count": null,
   "metadata": {},
   "outputs": [],
   "source": []
  }
 ],
 "metadata": {
  "kernelspec": {
   "display_name": "scope",
   "language": "python",
   "name": "scope"
  },
  "language_info": {
   "codemirror_mode": {
    "name": "ipython",
    "version": 3
   },
   "file_extension": ".py",
   "mimetype": "text/x-python",
   "name": "python",
   "nbconvert_exporter": "python",
   "pygments_lexer": "ipython3",
   "version": "3.7.3"
  }
 },
 "nbformat": 4,
 "nbformat_minor": 2
}
